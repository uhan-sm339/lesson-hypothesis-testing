{
 "cells": [
  {
   "cell_type": "markdown",
   "id": "3915f21c-dde7-4979-b055-6e9cba2e81ab",
   "metadata": {
    "editable": true,
    "slideshow": {
     "slide_type": ""
    },
    "tags": []
   },
   "source": [
    "**SM339 &#x25aa; Applied Statistics &#x25aa; Spring 2024 &#x25aa; Uhan**"
   ]
  },
  {
   "cell_type": "markdown",
   "id": "b738654b-4270-40e1-b8b9-498f1b27ca08",
   "metadata": {},
   "source": [
    "# Lesson 4. Hypothesis Testing &mdash; Part 2"
   ]
  },
  {
   "cell_type": "markdown",
   "id": "50fe35cf-039a-4299-a03f-767f3516217f",
   "metadata": {},
   "source": [
    "## Performing a $t$-test for one population mean in R"
   ]
  },
  {
   "cell_type": "markdown",
   "id": "82cefa2c-b2e2-4076-b599-4cb0f6e7f624",
   "metadata": {
    "editable": true,
    "slideshow": {
     "slide_type": ""
    },
    "tags": []
   },
   "source": [
    "### Example 1 (from Part 1)\n",
    "\n",
    "A Keurig machine is supposed to output 6 ounces of coffee when the smallest size is selected.\n",
    "For quality control, one machine is selected to be tested extensively to determine whether its average output is actually 6 ounces.\n",
    "The mean output of 20 cups of coffee is 6.1 ounces, and the standard deviation is 0.3 ounces.\n",
    "Use a significance level of 0.10 to test whether this machine's average output differs from 6 ounces.\n",
    "\n",
    "* In the same folder as this notebook, there is a CSV file `data/keurig.csv` that contains this data\n",
    "\n",
    "* Let's start by reading in the data:"
   ]
  },
  {
   "cell_type": "code",
   "execution_count": null,
   "id": "f71e07aa-2f8c-4fcf-90b1-8a076767c539",
   "metadata": {
    "editable": true,
    "slideshow": {
     "slide_type": ""
    },
    "tags": []
   },
   "outputs": [],
   "source": [
    "Keurig <- read.table('data/keurig.csv', header=TRUE, sep=',')\n",
    "\n",
    "head(Keurig)"
   ]
  },
  {
   "cell_type": "markdown",
   "id": "59ef4cb6-387a-440b-a07d-01702b0a216e",
   "metadata": {
    "editable": true,
    "slideshow": {
     "slide_type": ""
    },
    "tags": []
   },
   "source": [
    "* Before performing the $t$-test for population mean, let's check whether the data is approximately normal by creating a normal Q-Q plot:"
   ]
  },
  {
   "cell_type": "code",
   "execution_count": null,
   "id": "bd58b8d0-071a-4507-83c7-4c94d257af20",
   "metadata": {
    "editable": true,
    "slideshow": {
     "slide_type": ""
    },
    "tags": []
   },
   "outputs": [],
   "source": []
  },
  {
   "cell_type": "markdown",
   "id": "5e5f5899-7db4-4039-b5ff-aedabc0fd68b",
   "metadata": {
    "editable": true,
    "slideshow": {
     "slide_type": ""
    },
    "tags": []
   },
   "source": [
    "* The normal Q-Q plot looks like an approximately straight line, so we're OK\n",
    "\n",
    "* Now we can perform the $t$-test using the `t.test()` function in R:"
   ]
  },
  {
   "cell_type": "code",
   "execution_count": null,
   "id": "e05ccea5-f0cb-4205-b6cf-9f2db5b2586d",
   "metadata": {
    "editable": true,
    "slideshow": {
     "slide_type": ""
    },
    "tags": []
   },
   "outputs": [],
   "source": []
  },
  {
   "cell_type": "markdown",
   "id": "5a91384a-70ed-4709-be9d-e4bd212a7401",
   "metadata": {
    "editable": true,
    "slideshow": {
     "slide_type": ""
    },
    "tags": []
   },
   "source": [
    "* In the R code above, `mu = ...` specifies the hypothesized population mean $\\mu_0$\n",
    "\n",
    "* Depending on the version of the test we want to perform, we specify `alternative = ...` differently:\n",
    "\n",
    "| Version | Hypotheses | `alternative` |\n",
    "| :- | - | - |\n",
    "| Two-tailed | $H_0$: $\\mu = \\mu_0$, $H_A$: $\\mu \\ne \\mu_0$ | `two.sided` |\n",
    "| Left-tailed | $H_0$: $\\mu = \\mu_0$, $H_A$: $\\mu < \\mu_0$ | `less` |\n",
    "| Right-tailed | $H_0$: $\\mu = \\mu_0$, $H_A$: $\\mu > \\mu_0$ | `greater` |"
   ]
  },
  {
   "cell_type": "markdown",
   "id": "5c2bcd01-15cc-4f95-a979-b65e297002ff",
   "metadata": {
    "editable": true,
    "slideshow": {
     "slide_type": ""
    },
    "tags": []
   },
   "source": [
    "<hr style=\"border-top: 2px solid gray; margin-top: 1px; margin-bottom: 1px\"></hr>"
   ]
  },
  {
   "cell_type": "markdown",
   "id": "5350c9b9-8237-4985-bf49-13fad28a7208",
   "metadata": {
    "editable": true,
    "slideshow": {
     "slide_type": ""
    },
    "tags": []
   },
   "source": [
    "## Exercises"
   ]
  },
  {
   "cell_type": "markdown",
   "id": "01a29f39-b19b-4c6d-802e-639eb05f3f67",
   "metadata": {},
   "source": [
    "### Problem 1\n",
    "\n",
    "So far, we have constructed confidence intervals by hand. The R function `t.test()` will automatically calculate a CI for a mean. (You can run `?t.test` in a cell to see what else this function does.)\n",
    "\n",
    "In the same folder as this notebook, there is a CSV file `data/heights.csv`, containing the (fictional) heights of 16 midshipmen in inches, which you used for Problem 1 in the Lesson 3 Exercises.\n",
    "\n",
    "(a) Run the following code to compute a 90\\% CI for the mean height of all midshipmen. Does it match what you got in Lesson 3?"
   ]
  },
  {
   "cell_type": "code",
   "execution_count": null,
   "id": "c89c2eb0-9111-45a6-9974-ee0cd81fdbd8",
   "metadata": {},
   "outputs": [],
   "source": [
    "Heights <- read.table('data/heights.csv', header=TRUE, sep=',')\n",
    "\n",
    "t.test(Heights$height, conf.level=0.90)"
   ]
  },
  {
   "cell_type": "markdown",
   "id": "7e448333-1ccf-4c9a-ad2a-220c23acc9e3",
   "metadata": {},
   "source": [
    "(b) Interpret your interval in the context of the problem."
   ]
  },
  {
   "cell_type": "markdown",
   "id": "de36dc51-9f62-409e-9954-57afe8b02199",
   "metadata": {},
   "source": [
    "*Write your answer here. Double-click to edit.*"
   ]
  },
  {
   "cell_type": "markdown",
   "id": "823f2c9c-fc68-4a62-8ffc-b303e6d24624",
   "metadata": {},
   "source": [
    "(c) Would a 99% CI calculated from the same data be wider or more narrow than the interval you calculated in (a)? Briefly explain your answer."
   ]
  },
  {
   "cell_type": "markdown",
   "id": "eb3d7167-f084-4066-9305-5daae0977de5",
   "metadata": {},
   "source": [
    "*Write your answer here. Double-click to edit.*"
   ]
  },
  {
   "cell_type": "markdown",
   "id": "65af2eb4-2816-4bcc-97c9-16f9701505e1",
   "metadata": {},
   "source": [
    "### Problem 2\n",
    "\n",
    "Suppose the average height of all college students is 70 inches. We would like to know if the average height of all midshipmen differs from the national average.\n",
    "\n",
    "(a) Use the data in `data/Heights.csv` from Problem 1 to test at a signficance level of $\\alpha = 0.05$ whether the average height of all midshipmen differs from the national average. Report your null and alternative hypotheses, the test statistics, the $p$-value, and your conclusion."
   ]
  },
  {
   "cell_type": "code",
   "execution_count": null,
   "id": "2c3b565c-191c-4edd-9280-014f1809a559",
   "metadata": {},
   "outputs": [],
   "source": []
  },
  {
   "cell_type": "markdown",
   "id": "49afc07e-7fef-4073-ba48-19409d43beba",
   "metadata": {},
   "source": [
    "*Write your answer here. Double-click to edit.*"
   ]
  },
  {
   "cell_type": "markdown",
   "id": "54178c5d-04c4-4db4-b88c-ccedbab988ac",
   "metadata": {
    "editable": true,
    "slideshow": {
     "slide_type": ""
    },
    "tags": []
   },
   "source": [
    "(b) If you concluded that the average midshipman height is different from 70 inches when in fact it is not, which type of error did you make (Type I or Type II)? "
   ]
  },
  {
   "cell_type": "markdown",
   "id": "767a0996-d7d2-4acd-a375-9adc81271394",
   "metadata": {
    "editable": true,
    "slideshow": {
     "slide_type": ""
    },
    "tags": []
   },
   "source": [
    "*Write your answer here. Double-click to edit.*"
   ]
  },
  {
   "cell_type": "markdown",
   "id": "b27fad08-e5dc-492e-9111-f4303298f20d",
   "metadata": {
    "editable": true,
    "slideshow": {
     "slide_type": ""
    },
    "tags": []
   },
   "source": [
    "### Problem 3\n",
    "\n",
    "Suppose the average math SAT score among midshipmen 20 years ago was 500, and we want to know if there is evidence that the average score among current midshipmen is lower.\n",
    "\n",
    "(a) In the same folder as this notebook, there is a CSV file `data/scores.csv` containing the (fictional) math SAT scores from current midshipmen, which you used in Problem 2 in the Lesson 3 Exercises. Use this data to test at a signficance level of $\\alpha = 0.01$ whether the average math SAT score among current midshipmen is lower than 500. Report your null and alternative hypotheses, the test statistics, the $p$-value, and your conclusion."
   ]
  },
  {
   "cell_type": "code",
   "execution_count": null,
   "id": "336fb273-445f-44f8-9f95-98d0bf7ff95f",
   "metadata": {
    "editable": true,
    "slideshow": {
     "slide_type": ""
    },
    "tags": []
   },
   "outputs": [],
   "source": []
  },
  {
   "cell_type": "markdown",
   "id": "43389202-4797-48b7-a847-f77864ad53e2",
   "metadata": {
    "editable": true,
    "slideshow": {
     "slide_type": ""
    },
    "tags": []
   },
   "source": [
    "*Write your answer here. Double-click to edit.*"
   ]
  },
  {
   "cell_type": "markdown",
   "id": "62d2cf3a-0f12-402b-8acf-2adb827fcf76",
   "metadata": {
    "editable": true,
    "slideshow": {
     "slide_type": ""
    },
    "tags": []
   },
   "source": [
    "(b) If you concluded that the current average score is not lower than 500, when in fact it is, which type of error did you make (Type I or Type II)? "
   ]
  },
  {
   "cell_type": "markdown",
   "id": "f2658de1-f90b-4afe-9319-40ae705f2cef",
   "metadata": {
    "editable": true,
    "slideshow": {
     "slide_type": ""
    },
    "tags": []
   },
   "source": [
    "*Write your answer here. Double-click to edit.*"
   ]
  }
 ],
 "metadata": {
  "kernelspec": {
   "display_name": "R",
   "language": "R",
   "name": "ir"
  },
  "language_info": {
   "codemirror_mode": "r",
   "file_extension": ".r",
   "mimetype": "text/x-r-source",
   "name": "R",
   "pygments_lexer": "r",
   "version": "4.3.2"
  }
 },
 "nbformat": 4,
 "nbformat_minor": 5
}
